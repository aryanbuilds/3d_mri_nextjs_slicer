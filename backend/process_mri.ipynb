{
 "cells": [
  {
   "cell_type": "code",
   "execution_count": null,
   "metadata": {
    "vscode": {
     "languageId": "plaintext"
    }
   },
   "outputs": [],
   "source": [
    "import os\n",
    "import slicer\n",
    "import numpy as np\n",
    "import pydicom\n",
    "\n",
    "# Root directory where MRI images are stored\n",
    "MRI_IMAGE_DIR = os.path.abspath(os.path.join(os.getcwd(), \"..\"))\n",
    "\n",
    "# Find the latest MRI file\n",
    "mri_files = [f for f in os.listdir(MRI_IMAGE_DIR) if f.endswith((\".dcm\", \".nii\", \".nii.gz\"))]\n",
    "\n",
    "if not mri_files:\n",
    "    print(\"No MRI files found in the root directory.\")\n",
    "else:\n",
    "    latest_mri = sorted(mri_files, key=lambda x: os.path.getctime(os.path.join(MRI_IMAGE_DIR, x)))[-1]\n",
    "    dicom_path = os.path.join(MRI_IMAGE_DIR, latest_mri)\n",
    "\n",
    "    # Load MRI DICOM File\n",
    "    ds = pydicom.dcmread(dicom_path)\n",
    "\n",
    "    # Convert to numpy array\n",
    "    mri_array = ds.pixel_array\n",
    "\n",
    "    # Save processed MRI (Simulated)\n",
    "    np.save(os.path.join(MRI_IMAGE_DIR, \"processed_mri.npy\"), mri_array)\n",
    "    print(f\"Processed MRI saved: {dicom_path}\")\n"
   ]
  }
 ],
 "metadata": {
  "language_info": {
   "name": "python"
  }
 },
 "nbformat": 4,
 "nbformat_minor": 2
}
